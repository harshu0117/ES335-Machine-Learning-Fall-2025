{
  "cells": [
    {
      "cell_type": "markdown",
      "metadata": {
        "id": "YkWNrDGeKXkR"
      },
      "source": [
        "# Prerequisite Test Solutions\n"
      ]
    },
    {
      "cell_type": "markdown",
      "metadata": {
        "id": "65ySpvLLKXkU"
      },
      "source": [
        "### 1. Matrix Multiplication Complexity\n",
        "\n",
        "**Question:** How many multiplications and additions are needed for a matrix multiplication between an (n, k) and a (k, m) matrix? Explain your reasoning."
      ]
    },
    {
      "cell_type": "markdown",
      "metadata": {
        "id": "zG8EOwFoKXkV"
      },
      "source": [
        "To compute each element of the resulting (n, m) matrix, we perform a dot product of a row from the first matrix (with k elements) and a column from the second matrix (with k elements). This dot product requires **k multiplications** and **k-1 additions**.\n",
        "\n",
        "Since there are **n * m** elements in the resulting matrix, the total number of operations are:\n",
        "\n",
        "* **Total Multiplications:** $n \\times m \\times k$\n",
        "* **Total Additions:** $n \\times m \\times (k - 1)$"
      ]
    },
    {
      "cell_type": "markdown",
      "metadata": {
        "id": "26kWWzvgKXkV"
      },
      "source": [
        "### 2. Matrix Multiplication in Python\n",
        "\n",
        "**Question:** Write Python code to multiply the two matrices from the previous question. Implement the solution using both a list of lists and NumPy. Compare the execution time of both methods. Which one is faster and why?"
      ]
    },
    {
      "cell_type": "code",
      "execution_count": 1,
      "metadata": {
        "colab": {
          "base_uri": "https://localhost:8080/"
        },
        "id": "rG6vhecxKXkW",
        "outputId": "b42aaac8-7d14-4a4a-f960-f566a65027fd"
      },
      "outputs": [
        {
          "output_type": "stream",
          "name": "stdout",
          "text": [
            "List of lists multiplication time: 0.067884 seconds\n",
            "NumPy multiplication time: 0.004474 seconds\n",
            "\n",
            "NumPy is approximately 15.17 times faster.\n"
          ]
        }
      ],
      "source": [
        "import numpy as np\n",
        "import time\n",
        "\n",
        "def multiply_list_of_lists(A, B):\n",
        "    n, k1 = len(A), len(A[0])\n",
        "    k2, m = len(B), len(B[0])\n",
        "    if k1 != k2:\n",
        "        raise ValueError(\"Matrices are not compatible for multiplication\")\n",
        "\n",
        "    C = [[0 for _ in range(m)] for _ in range(n)]\n",
        "    for i in range(n):\n",
        "        for j in range(m):\n",
        "            for k in range(k1):\n",
        "                C[i][j] += A[i][k] * B[k][j]\n",
        "    return C\n",
        "\n",
        "n, k, m = 100, 50, 120\n",
        "\n",
        "list_A = [[np.random.rand() for _ in range(k)] for _ in range(n)]\n",
        "list_B = [[np.random.rand() for _ in range(m)] for _ in range(k)]\n",
        "\n",
        "start_time = time.time()\n",
        "list_C = multiply_list_of_lists(list_A, list_B)\n",
        "list_time = time.time() - start_time\n",
        "print(f\"List of lists multiplication time: {list_time:.6f} seconds\")\n",
        "\n",
        "np_A = np.array(list_A)\n",
        "np_B = np.array(list_B)\n",
        "\n",
        "start_time = time.time()\n",
        "np_C = np.dot(np_A, np_B)\n",
        "np_time = time.time() - start_time\n",
        "print(f\"NumPy multiplication time: {np_time:.6f} seconds\")\n",
        "\n",
        "print(f\"\\nNumPy is approximately {list_time/np_time:.2f} times faster.\")"
      ]
    },
    {
      "cell_type": "markdown",
      "metadata": {
        "id": "nSgNkouFKXkZ"
      },
      "source": [
        "**Why NumPy is faster:**\n",
        "\n",
        "NumPy is significantly faster because its core operations are implemented in C and Fortran, which are compiled languages. This allows for highly optimized, low-level code that operates directly on memory. In contrast, standard Python lists are interpreted, and the nested loops for matrix multiplication involve a lot of Python-level overhead for each operation."
      ]
    },
    {
      "cell_type": "markdown",
      "metadata": {
        "id": "5SoGxmWaKXkZ"
      },
      "source": [
        "### 3. Median Finding\n",
        "\n",
        "**Question:** Finding the highest element in a list requires one pass. Finding the second highest requires two passes. Using this logic, what is the time complexity to find the median of an array? Can you suggest a more efficient method? Implement both methods in Python and compare their execution time against NumPy's `numpy.median` function."
      ]
    },
    {
      "cell_type": "markdown",
      "metadata": {
        "id": "hlWqu7LgKXka"
      },
      "source": [
        "The naive approach of finding the k-th smallest element by repeatedly finding and removing the minimum element would have a time complexity of **O(n\\*k)**, where n is the number of elements in the array. To find the median (which is the n/2-th smallest element), this would be **O(n²)**.\n",
        "\n",
        "A more efficient method is to first sort the array, which takes **O(n log n)** time, and then access the middle element in **O(1)** time."
      ]
    },
    {
      "cell_type": "code",
      "execution_count": 2,
      "metadata": {
        "colab": {
          "base_uri": "https://localhost:8080/"
        },
        "id": "_am5IVgkKXka",
        "outputId": "84e6bd6f-a72a-4ddc-fdbc-80a8c17a22c8"
      },
      "outputs": [
        {
          "output_type": "stream",
          "name": "stdout",
          "text": [
            "Naive median time: 0.029836 seconds\n",
            "Sorting median time: 0.000703 seconds\n",
            "NumPy median time: 0.004185 seconds\n",
            "\n",
            "Naive median: 0.4697689871263484\n",
            "Sorting median: 0.4697689871263484\n",
            "NumPy median: 0.4697689871263484\n"
          ]
        }
      ],
      "source": [
        "import numpy as np\n",
        "import time\n",
        "\n",
        "def naive_median(arr):\n",
        "    n = len(arr)\n",
        "    if n % 2 == 1:\n",
        "        k = n // 2\n",
        "        temp_arr = list(arr)\n",
        "        for _ in range(k):\n",
        "            min_val = min(temp_arr)\n",
        "            temp_arr.remove(min_val)\n",
        "        return min(temp_arr)\n",
        "    else:\n",
        "        k1 = n // 2 -1\n",
        "        k2 = n // 2\n",
        "        temp_arr = list(arr)\n",
        "        for _ in range(k1):\n",
        "            min_val = min(temp_arr)\n",
        "            temp_arr.remove(min_val)\n",
        "        val1 = min(temp_arr)\n",
        "        temp_arr.remove(val1)\n",
        "        val2 = min(temp_arr)\n",
        "        return (val1 + val2) / 2\n",
        "\n",
        "def sorting_median(arr):\n",
        "    sorted_arr = sorted(arr)\n",
        "    n = len(sorted_arr)\n",
        "    if n % 2 == 1:\n",
        "        return sorted_arr[n//2]\n",
        "    else:\n",
        "        return (sorted_arr[n//2 - 1] + sorted_arr[n//2]) / 2\n",
        "\n",
        "test_array = np.random.rand(1001)\n",
        "\n",
        "start_time = time.time()\n",
        "naive_median_val = naive_median(list(test_array))\n",
        "naive_time = time.time() - start_time\n",
        "print(f\"Naive median time: {naive_time:.6f} seconds\")\n",
        "\n",
        "start_time = time.time()\n",
        "sorting_median_val = sorting_median(list(test_array))\n",
        "sorting_time = time.time() - start_time\n",
        "print(f\"Sorting median time: {sorting_time:.6f} seconds\")\n",
        "\n",
        "start_time = time.time()\n",
        "numpy_median_val = np.median(test_array)\n",
        "numpy_time = time.time() - start_time\n",
        "print(f\"NumPy median time: {numpy_time:.6f} seconds\")\n",
        "\n",
        "print(f\"\\nNaive median: {naive_median_val}\")\n",
        "print(f\"Sorting median: {sorting_median_val}\")\n",
        "print(f\"NumPy median: {numpy_median_val}\")"
      ]
    },
    {
      "cell_type": "markdown",
      "metadata": {
        "id": "J07DGvfjKXkc"
      },
      "source": [
        "### 4. Gradient Calculation\n",
        "\n",
        "**Question:** What is the gradient of the function $f(x, y) = x^2y + y^3\\sin(x)$ with respect to x and y?"
      ]
    },
    {
      "cell_type": "markdown",
      "metadata": {
        "id": "x0oIFEbdKXkc"
      },
      "source": [
        "The gradient of a multivariable function is a vector of its partial derivatives.\n",
        "\n",
        "* **Partial derivative with respect to x (∂f/∂x):**\n",
        "    $2xy + y^3\\cos(x)$\n",
        "* **Partial derivative with respect to y (∂f/∂y):**\n",
        "    $x^2 + 3y^2\\sin(x)$\n",
        "\n",
        "So, the gradient ∇f is:\n",
        "**∇f(x, y) = [ $2xy + y^3\\cos(x)$,  $x^2 + 3y^2\\sin(x)$ ]**"
      ]
    },
    {
      "cell_type": "markdown",
      "metadata": {
        "id": "DPR8b5FiKXkd"
      },
      "source": [
        "### 5 and 6. Gradient Verification with JAX and SymPy\n",
        "\n",
        "**Question:** Use JAX to verify that the gradient you calculated matches the analytical solution for a few random values of x and y."
      ]
    },
    {
      "cell_type": "code",
      "execution_count": null,
      "metadata": {
        "id": "WaaeeD5zKXkd"
      },
      "outputs": [],
      "source": [
        "!pip install jax"
      ]
    },
    {
      "cell_type": "code",
      "source": [
        "import sympy\n",
        "import jax\n",
        "import jax.numpy as jnp\n",
        "import numpy as np\n",
        "\n",
        "# --- Define the point and function for all methods ---\n",
        "x_val, y_val = 2.0, 3.0\n",
        "f = lambda x, y: x**2 * y + y**3 * np.sin(x)\n",
        "print(f\"Calculating gradient of f(x,y) = x²y + y³sin(x) at point ({x_val}, {y_val})\\n\")\n",
        "\n",
        "\n",
        "# Method 1: Analytical Gradient with SymPy (Ground Truth) --------------------\n",
        "x_sym, y_sym = sympy.symbols('x y')\n",
        "f_sym = x_sym**2 * y_sym + y_sym**3 * sympy.sin(x_sym)\n",
        "\n",
        "grad_x_sym = sympy.diff(f_sym, x_sym)\n",
        "grad_y_sym = sympy.diff(f_sym, y_sym)\n",
        "\n",
        "# Evaluate the analytical expression at the specific point\n",
        "analytical_grad_x = grad_x_sym.subs({x_sym: x_val, y_sym: y_val}).evalf()\n",
        "analytical_grad_y = grad_y_sym.subs({x_sym: x_val, y_sym: y_val}).evalf()\n",
        "\n",
        "print(\"1. Analytical Method (SymPy)\")\n",
        "print(f\"∂f/∂x formula: {grad_x_sym}\")\n",
        "print(f\"∂f/∂y formula: {grad_y_sym}\")\n",
        "print(f\"Result: [{analytical_grad_x:.8f}, {analytical_grad_y:.8f}]\\n\")\n",
        "\n",
        "\n",
        "# Method 2: Numerical Approximation (Finite Differences) -------------------\n",
        "def finite_difference_grad(func, x, y, h=1e-7):\n",
        "    # Partial derivative with respect to x\n",
        "    df_dx = (func(x + h, y) - func(x, y)) / h\n",
        "    # Partial derivative with respect to y\n",
        "    df_dy = (func(x, y + h) - func(x, y)) / h\n",
        "    return df_dx, df_dy\n",
        "\n",
        "numerical_grad = finite_difference_grad(f, x_val, y_val)\n",
        "\n",
        "print(\"2. Numerical Approximation (Finite Differences)\")\n",
        "print(\"Approximates the derivative using f'(x) ≈ (f(x+h) - f(x))/h.\")\n",
        "print(f\"Result: [{numerical_grad[0]:.8f}, {numerical_grad[1]:.8f}]\\n\")\n",
        "\n",
        "\n",
        "# Method 3: Automatic Differentiation with JAX -----------------------------\n",
        "def f_jax(x, y):\n",
        "    return x**2 * y + y**3 * jnp.sin(x)\n",
        "\n",
        "jax_grad_func = jax.grad(f_jax, argnums=(0, 1))\n",
        "autodiff_grad = jax_grad_func(x_val, y_val)\n",
        "\n",
        "print(\"3. Automatic Differentiation (JAX)\")\n",
        "print(\"Computes the exact derivative value algorithmically.\")\n",
        "print(f\"Result: [{autodiff_grad[0]:.8f}, {autodiff_grad[1]:.8f}]\\n\")\n",
        "\n",
        "# --- Summary ---\n",
        "print(\"=\"*35)\n",
        "print(\"              SUMMARY OF RESULTS\")\n",
        "print(\"=\"*35)\n",
        "print(f\"Analytical (SymPy):  [{float(analytical_grad_x):.8f}, {float(analytical_grad_y):.8f}]\")\n",
        "print(f\"Numerical (Finite Δ):[{numerical_grad[0]:.8f}, {numerical_grad[1]:.8f}]\")\n",
        "print(f\"AutoDiff (JAX):      [{autodiff_grad[0]:.8f}, {autodiff_grad[1]:.8f}]\")\n",
        "print(\"=\"*35)"
      ],
      "metadata": {
        "colab": {
          "base_uri": "https://localhost:8080/"
        },
        "id": "CvXnIzl6MhV4",
        "outputId": "573c932b-bece-4dfa-bb32-8da5e61dec84"
      },
      "execution_count": 14,
      "outputs": [
        {
          "output_type": "stream",
          "name": "stdout",
          "text": [
            "Calculating gradient of f(x,y) = x²y + y³sin(x) at point (2.0, 3.0)\n",
            "\n",
            "1. Analytical Method (SymPy)\n",
            "∂f/∂x formula: 2*x*y + y**3*cos(x)\n",
            "∂f/∂y formula: x**2 + 3*y**2*sin(x)\n",
            "Result: [0.76403541, 28.55103052]\n",
            "\n",
            "2. Numerical Approximation (Finite Differences)\n",
            "Approximates the derivative using f'(x) ≈ (f(x+h) - f(x))/h.\n",
            "Result: [0.76403445, 28.55103126]\n",
            "\n",
            "3. Automatic Differentiation (JAX)\n",
            "Computes the exact derivative value algorithmically.\n",
            "Result: [0.76403522, 28.55102921]\n",
            "\n",
            "===================================\n",
            "              SUMMARY OF RESULTS\n",
            "===================================\n",
            "Analytical (SymPy):  [0.76403541, 28.55103052]\n",
            "Numerical (Finite Δ):[0.76403445, 28.55103126]\n",
            "AutoDiff (JAX):      [0.76403522, 28.55102921]\n",
            "===================================\n"
          ]
        }
      ]
    },
    {
      "cell_type": "markdown",
      "metadata": {
        "id": "gqmanFFmKXkf"
      },
      "source": [
        "### 7. Hierarchical Data with Dictionaries\n",
        "\n",
        "**Question:** Create a nested Python dictionary to represent hierarchical student data, including year, branch, roll number, name, and marks in various subjects."
      ]
    },
    {
      "cell_type": "code",
      "execution_count": 6,
      "metadata": {
        "colab": {
          "base_uri": "https://localhost:8080/"
        },
        "id": "UJ9gY_7oKXkf",
        "outputId": "17f0ebb3-d44c-4157-f8a3-f367fd2c1b2a"
      },
      "outputs": [
        {
          "output_type": "stream",
          "name": "stdout",
          "text": [
            "{\n",
            "    \"2023\": {\n",
            "        \"Computer Science\": [\n",
            "            {\n",
            "                \"roll_number\": \"CS01\",\n",
            "                \"name\": \"Alice\",\n",
            "                \"marks\": {\n",
            "                    \"Math\": 90,\n",
            "                    \"Physics\": 85,\n",
            "                    \"Programming\": 95\n",
            "                }\n",
            "            },\n",
            "            {\n",
            "                \"roll_number\": \"CS02\",\n",
            "                \"name\": \"Bob\",\n",
            "                \"marks\": {\n",
            "                    \"Math\": 88,\n",
            "                    \"Physics\": 92,\n",
            "                    \"Programming\": 89\n",
            "                }\n",
            "            }\n",
            "        ],\n",
            "        \"Electrical Engineering\": [\n",
            "            {\n",
            "                \"roll_number\": \"EE01\",\n",
            "                \"name\": \"Charlie\",\n",
            "                \"marks\": {\n",
            "                    \"Math\": 95,\n",
            "                    \"Physics\": 88,\n",
            "                    \"Circuits\": 91\n",
            "                }\n",
            "            }\n",
            "        ]\n",
            "    },\n",
            "    \"2024\": {\n",
            "        \"Computer Science\": [\n",
            "            {\n",
            "                \"roll_number\": \"CS03\",\n",
            "                \"name\": \"David\",\n",
            "                \"marks\": {\n",
            "                    \"Math\": 78,\n",
            "                    \"Physics\": 81,\n",
            "                    \"Programming\": 92\n",
            "                }\n",
            "            }\n",
            "        ]\n",
            "    }\n",
            "}\n"
          ]
        }
      ],
      "source": [
        "student_data_dict = {\n",
        "    2023: {\n",
        "        \"Computer Science\": [\n",
        "            {\n",
        "                \"roll_number\": \"CS01\",\n",
        "                \"name\": \"Alice\",\n",
        "                \"marks\": {\"Math\": 90, \"Physics\": 85, \"Programming\": 95}\n",
        "            },\n",
        "            {\n",
        "                \"roll_number\": \"CS02\",\n",
        "                \"name\": \"Bob\",\n",
        "                \"marks\": {\"Math\": 88, \"Physics\": 92, \"Programming\": 89}\n",
        "            }\n",
        "        ],\n",
        "        \"Electrical Engineering\": [\n",
        "            {\n",
        "                \"roll_number\": \"EE01\",\n",
        "                \"name\": \"Charlie\",\n",
        "                \"marks\": {\"Math\": 95, \"Physics\": 88, \"Circuits\": 91}\n",
        "            }\n",
        "        ]\n",
        "    },\n",
        "    2024: {\n",
        "        \"Computer Science\": [\n",
        "            {\n",
        "                \"roll_number\": \"CS03\",\n",
        "                \"name\": \"David\",\n",
        "                \"marks\": {\"Math\": 78, \"Physics\": 81, \"Programming\": 92}\n",
        "            }\n",
        "        ]\n",
        "    }\n",
        "}\n",
        "\n",
        "import json\n",
        "print(json.dumps(student_data_dict, indent=4))"
      ]
    },
    {
      "cell_type": "markdown",
      "metadata": {
        "id": "dAxz_GmoKXkf"
      },
      "source": [
        "### 8. Hierarchical Data with Classes\n",
        "\n",
        "**Question:** Represent the same student information using Python classes. The overall structure should be a database (list) of year objects, where each year object contains a list of branch objects, and each branch object contains a list of student objects with their properties and marks."
      ]
    },
    {
      "cell_type": "code",
      "execution_count": 7,
      "metadata": {
        "colab": {
          "base_uri": "https://localhost:8080/"
        },
        "id": "j__8oF6AKXkg",
        "outputId": "a7be4e4d-d239-4d0d-b5ea-6d9fcebfb122"
      },
      "outputs": [
        {
          "output_type": "stream",
          "name": "stdout",
          "text": [
            "Year: 2023\n",
            "Branch: Computer Science\n",
            "Student Name: Alice\n",
            "Student Marks: {'Math': 90, 'Physics': 85, 'Programming': 95}\n"
          ]
        }
      ],
      "source": [
        "class Student:\n",
        "    def __init__(self, roll_number, name, marks):\n",
        "        self.roll_number = roll_number\n",
        "        self.name = name\n",
        "        self.marks = marks\n",
        "\n",
        "class Branch:\n",
        "    def __init__(self, name):\n",
        "        self.name = name\n",
        "        self.students = []\n",
        "\n",
        "    def add_student(self, student):\n",
        "        self.students.append(student)\n",
        "\n",
        "class Year:\n",
        "    def __init__(self, year):\n",
        "        self.year = year\n",
        "        self.branches = []\n",
        "\n",
        "    def add_branch(self, branch):\n",
        "        self.branches.append(branch)\n",
        "\n",
        "# Create instances\n",
        "student1 = Student(\"CS01\", \"Alice\", {\"Math\": 90, \"Physics\": 85, \"Programming\": 95})\n",
        "student2 = Student(\"CS02\", \"Bob\", {\"Math\": 88, \"Physics\": 92, \"Programming\": 89})\n",
        "cs_branch_2023 = Branch(\"Computer Science\")\n",
        "cs_branch_2023.add_student(student1)\n",
        "cs_branch_2023.add_student(student2)\n",
        "\n",
        "student3 = Student(\"EE01\", \"Charlie\", {\"Math\": 95, \"Physics\": 88, \"Circuits\": 91})\n",
        "ee_branch_2023 = Branch(\"Electrical Engineering\")\n",
        "ee_branch_2023.add_student(student3)\n",
        "\n",
        "year_2023 = Year(2023)\n",
        "year_2023.add_branch(cs_branch_2023)\n",
        "year_2023.add_branch(ee_branch_2023)\n",
        "\n",
        "database = [year_2023]\n",
        "\n",
        "# Example of accessing data\n",
        "print(f\"Year: {database[0].year}\")\n",
        "print(f\"Branch: {database[0].branches[0].name}\")\n",
        "print(f\"Student Name: {database[0].branches[0].students[0].name}\")\n",
        "print(f\"Student Marks: {database[0].branches[0].students[0].marks}\")"
      ]
    },
    {
      "cell_type": "markdown",
      "metadata": {
        "id": "cIyFJNBAKXkh"
      },
      "source": [
        "### 9. Plotting Functions\n",
        "\n",
        "**Question:** Using matplotlib, plot the following functions on the domain x = 0.5 to 100.0 in steps of 0.5:\n",
        "y = x, y = x², y = (x³)/100, y = sin(x), y = sin(x)/x, y = log(x), y = eˣ"
      ]
    },
    {
      "cell_type": "code",
      "execution_count": 8,
      "metadata": {
        "colab": {
          "base_uri": "https://localhost:8080/",
          "height": 979
        },
        "id": "mqE4qF8JKXkh",
        "outputId": "b578481a-f7d0-4621-9f3b-f16cc9f1ad70"
      },
      "outputs": [
        {
          "output_type": "display_data",
          "data": {
            "text/plain": [
              "<Figure size 1200x1000 with 7 Axes>"
            ],
            "image/png": "[encoded data removed]"
          },
          "metadata": {}
        }
      ],
      "source": [
        "import matplotlib.pyplot as plt\n",
        "import numpy as np\n",
        "\n",
        "x = np.arange(0.5, 100.5, 0.5)\n",
        "\n",
        "y1 = x\n",
        "y2 = x**2\n",
        "y3 = (x**3) / 100\n",
        "y4 = np.sin(x)\n",
        "y5 = np.sin(x) / x\n",
        "y6 = np.log(x)\n",
        "y7 = np.exp(x)\n",
        "\n",
        "plt.figure(figsize=(12, 10))\n",
        "\n",
        "plt.subplot(4, 2, 1)\n",
        "plt.plot(x, y1)\n",
        "plt.title('y = x')\n",
        "\n",
        "plt.subplot(4, 2, 2)\n",
        "plt.plot(x, y2)\n",
        "plt.title('y = x^2')\n",
        "\n",
        "plt.subplot(4, 2, 3)\n",
        "plt.plot(x, y3)\n",
        "plt.title('y = (x^3)/100')\n",
        "\n",
        "plt.subplot(4, 2, 4)\n",
        "plt.plot(x, y4)\n",
        "plt.title('y = sin(x)')\n",
        "\n",
        "plt.subplot(4, 2, 5)\n",
        "plt.plot(x, y5)\n",
        "plt.title('y = sin(x)/x')\n",
        "\n",
        "plt.subplot(4, 2, 6)\n",
        "plt.plot(x, y6)\n",
        "plt.title('y = log(x)')\n",
        "\n",
        "plt.subplot(4, 2, 7)\n",
        "plt.plot(x, y7)\n",
        "plt.title('y = e^x')\n",
        "\n",
        "plt.tight_layout()\n",
        "plt.show()"
      ]
    },
    {
      "cell_type": "markdown",
      "metadata": {
        "id": "r7C-t0Q5KXki"
      },
      "source": [
        "### 10. Pandas DataFrame Operations (Part 1)\n",
        "\n",
        "**Question:** Generate a 20x5 NumPy matrix with random numbers uniformly distributed between 1 and 2. Create a Pandas DataFrame from this matrix with column names \"a\", \"b\", \"c\", \"d\", and \"e\". Find the column with the highest standard deviation and the row with the lowest mean."
      ]
    },
    {
      "cell_type": "code",
      "execution_count": 9,
      "metadata": {
        "colab": {
          "base_uri": "https://localhost:8080/"
        },
        "id": "GoBy1ol2KXki",
        "outputId": "609b5f21-0821-445e-d3d5-e12b07005bd2"
      },
      "outputs": [
        {
          "output_type": "stream",
          "name": "stdout",
          "text": [
            "DataFrame head:\n",
            "          a         b         c         d         e\n",
            "0  1.548814  1.715189  1.602763  1.544883  1.423655\n",
            "1  1.645894  1.437587  1.891773  1.963663  1.383442\n",
            "2  1.791725  1.528895  1.568045  1.925597  1.071036\n",
            "3  1.087129  1.020218  1.832620  1.778157  1.870012\n",
            "4  1.978618  1.799159  1.461479  1.780529  1.118274\n",
            "\n",
            "Column with highest standard deviation: c\n",
            "Standard deviation value: 0.34346618256567985\n",
            "\n",
            "Row with lowest mean: 15\n",
            "Mean value: 1.1714118465040577\n"
          ]
        }
      ],
      "source": [
        "import numpy as np\n",
        "import pandas as pd\n",
        "\n",
        "np.random.seed(0)\n",
        "data = np.random.uniform(1, 2, size=(20, 5))\n",
        "df = pd.DataFrame(data, columns=['a', 'b', 'c', 'd', 'e'])\n",
        "\n",
        "print(\"DataFrame head:\")\n",
        "print(df.head())\n",
        "\n",
        "col_std = df.std()\n",
        "highest_std_col = col_std.idxmax()\n",
        "print(f\"\\nColumn with highest standard deviation: {highest_std_col}\")\n",
        "print(f\"Standard deviation value: {col_std.max()}\")\n",
        "\n",
        "row_mean = df.mean(axis=1)\n",
        "lowest_mean_row = row_mean.idxmin()\n",
        "print(f\"\\nRow with lowest mean: {lowest_mean_row}\")\n",
        "print(f\"Mean value: {row_mean.min()}\")"
      ]
    },
    {
      "cell_type": "markdown",
      "metadata": {
        "id": "2SSM_7RUKXkj"
      },
      "source": [
        "### 11. Pandas DataFrame Operations (Part 2)\n",
        "\n",
        "**Question:** Add a new column \"f\" to the DataFrame, which is the sum of columns \"a\", \"b\", \"c\", \"d\", and \"e\". Create another column \"g\" with the value \"LT8\" if the value in column \"f\" is less than 8, and \"GT8\" otherwise. Find the number of rows where the value in column \"g\" is \"LT8\". Also, find the standard deviation of column \"f\" for the rows where \"g\" is \"LT8\" and \"GT8\", respectively."
      ]
    },
    {
      "cell_type": "code",
      "execution_count": 10,
      "metadata": {
        "colab": {
          "base_uri": "https://localhost:8080/"
        },
        "id": "QUN_GGq_KXkj",
        "outputId": "e44d47a6-7036-4e71-f89a-9ef22276e7a1"
      },
      "outputs": [
        {
          "output_type": "stream",
          "name": "stdout",
          "text": [
            "DataFrame with new columns 'f' and 'g':\n",
            "          a         b         c         d         e         f    g\n",
            "0  1.548814  1.715189  1.602763  1.544883  1.423655  7.835304  LT8\n",
            "1  1.645894  1.437587  1.891773  1.963663  1.383442  8.322359  GT8\n",
            "2  1.791725  1.528895  1.568045  1.925597  1.071036  7.885297  LT8\n",
            "3  1.087129  1.020218  1.832620  1.778157  1.870012  7.588136  LT8\n",
            "4  1.978618  1.799159  1.461479  1.780529  1.118274  8.138060  GT8\n",
            "\n",
            "Number of rows where g is 'LT8': 16\n",
            "\n",
            "Standard deviation of 'f' for 'LT8' rows: 0.5551\n",
            "Standard deviation of 'f' for 'GT8' rows: 0.2654\n"
          ]
        }
      ],
      "source": [
        "import numpy as np\n",
        "import pandas as pd\n",
        "\n",
        "np.random.seed(0)\n",
        "data = np.random.uniform(1, 2, size=(20, 5))\n",
        "df = pd.DataFrame(data, columns=['a', 'b', 'c', 'd', 'e'])\n",
        "\n",
        "df['f'] = df[['a', 'b', 'c', 'd', 'e']].sum(axis=1)\n",
        "df['g'] = np.where(df['f'] < 8, 'LT8', 'GT8')\n",
        "\n",
        "print(\"DataFrame with new columns 'f' and 'g':\")\n",
        "print(df.head())\n",
        "\n",
        "lt8_count = df[df['g'] == 'LT8'].shape[0]\n",
        "print(f\"\\nNumber of rows where g is 'LT8': {lt8_count}\")\n",
        "\n",
        "std_lt8 = df[df['g'] == 'LT8']['f'].std()\n",
        "std_gt8 = df[df['g'] == 'GT8']['f'].std()\n",
        "print(f\"\\nStandard deviation of 'f' for 'LT8' rows: {std_lt8:.4f}\")\n",
        "print(f\"Standard deviation of 'f' for 'GT8' rows: {std_gt8:.4f}\")"
      ]
    },
    {
      "cell_type": "markdown",
      "metadata": {
        "id": "tsbHannvKXkj"
      },
      "source": [
        "### 12. NumPy Broadcasting\n",
        "\n",
        "**Question:** Write a short piece of code to demonstrate broadcasting in NumPy."
      ]
    },
    {
      "cell_type": "code",
      "execution_count": 11,
      "metadata": {
        "colab": {
          "base_uri": "https://localhost:8080/"
        },
        "id": "Wv8e6kAtKXkk",
        "outputId": "1d1c219c-0c7a-40bf-9f92-4f9049dc7f71"
      },
      "outputs": [
        {
          "output_type": "stream",
          "name": "stdout",
          "text": [
            "Array a:\n",
            " [[1 2 3]\n",
            " [4 5 6]\n",
            " [7 8 9]]\n",
            "\n",
            "Array b:\n",
            " [10 20 30]\n",
            "\n",
            "Array a + b (after broadcasting):\n",
            " [[11 22 33]\n",
            " [14 25 36]\n",
            " [17 28 39]]\n"
          ]
        }
      ],
      "source": [
        "import numpy as np\n",
        "\n",
        "a = np.array([[1, 2, 3],\n",
        "              [4, 5, 6],\n",
        "              [7, 8, 9]])\n",
        "\n",
        "# Create a 1x3 array (or a 1D array of size 3)\n",
        "b = np.array([10, 20, 30])\n",
        "\n",
        "# Add b to each row of a.\n",
        "# b is \"broadcast\" across the rows of a.\n",
        "c = a + b\n",
        "\n",
        "print(\"Array a:\\n\", a)\n",
        "print(\"\\nArray b:\\n\", b)\n",
        "print(\"\\nArray a + b (after broadcasting):\\n\", c)"
      ]
    },
    {
      "cell_type": "markdown",
      "metadata": {
        "id": "zQBq9mqcKXkk"
      },
      "source": [
        "### 13. NumPy Argmin\n",
        "\n",
        "**Question:** Write a function to find the index of the minimum element (argmin) in a NumPy array. You can use `np.argmin` to verify your solution."
      ]
    },
    {
      "cell_type": "code",
      "execution_count": 12,
      "metadata": {
        "colab": {
          "base_uri": "https://localhost:8080/"
        },
        "id": "XAkWf2pZKXkk",
        "outputId": "a8520a37-7674-4863-9eb0-05058b978cc5"
      },
      "outputs": [
        {
          "output_type": "stream",
          "name": "stdout",
          "text": [
            "Test Array:\n",
            " [[0.67781654 0.27000797 0.73519402 0.96218855 0.24875314]\n",
            " [0.57615733 0.59204193 0.57225191 0.22308163 0.95274901]\n",
            " [0.44712538 0.84640867 0.69947928 0.29743695 0.81379782]\n",
            " [0.39650574 0.8811032  0.58127287 0.88173536 0.69253159]]\n",
            "\n",
            "My argmin result: (np.int64(1), np.int64(3))\n",
            "NumPy's argmin result: (np.int64(1), np.int64(3))\n",
            "\n",
            "Verification: True\n"
          ]
        }
      ],
      "source": [
        "import numpy as np\n",
        "\n",
        "def find_argmin(arr):\n",
        "    if arr.size == 0:\n",
        "        return None\n",
        "\n",
        "    min_val = arr.flat[0]\n",
        "    min_idx = 0\n",
        "    for i, val in enumerate(arr.flat):\n",
        "        if val < min_val:\n",
        "            min_val = val\n",
        "            min_idx = i\n",
        "\n",
        "    return np.unravel_index(min_idx, arr.shape)\n",
        "\n",
        "\n",
        "test_array = np.random.rand(4, 5)\n",
        "print(\"Test Array:\\n\", test_array)\n",
        "\n",
        "my_argmin = find_argmin(test_array)\n",
        "numpy_argmin = np.unravel_index(np.argmin(test_array), test_array.shape)\n",
        "\n",
        "print(f\"\\nMy argmin result: {my_argmin}\")\n",
        "print(f\"NumPy's argmin result: {numpy_argmin}\")\n",
        "\n",
        "print(f\"\\nVerification: {my_argmin == numpy_argmin}\")"
      ]
    }
  ],
  "metadata": {
    "kernelspec": {
      "display_name": "Python 3",
      "language": "python",
      "name": "python3"
    },
    "language_info": {
      "codemirror_mode": {
        "name": "ipython",
        "version": 3
      },
      "file_extension": ".py",
      "mimetype": "text/x-python",
      "name": "python",
      "nbconvert_exporter": "python",
      "pygments_lexer": "ipython3",
      "version": "3.12.1"
    },
    "colab": {
      "provenance": []
    }
  },
  "nbformat": 4,
  "nbformat_minor": 0
}
